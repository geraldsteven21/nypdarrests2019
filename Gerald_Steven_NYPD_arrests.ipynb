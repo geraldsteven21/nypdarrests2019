{
 "cells": [
  {
   "cell_type": "markdown",
   "metadata": {},
   "source": [
    "## Project: NYPD Arrests in 2019<br>\n",
    "Gerald Steven<br>\n",
    "Data source: https://data.cityofnewyork.us/Public-Safety/NYPD-Arrest-Data-Year-to-Date-/uip8-fykc<br>\n",
    "3/27/20"
   ]
  },
  {
   "cell_type": "markdown",
   "metadata": {},
   "source": [
    "## Part 1: Data cleaning\n",
    "1. Check for missing values\n",
    "2. Check for duplicate records\n",
    "3. Drop unnecessary columns\n",
    "4. Replace values\n",
    "5. Convert data type\n",
    "\n",
    "## Part 2: Data visualization and analysis\n",
    "1. What is the most common reason for arrest in New York?\n",
    "2. Which borough has the highest number of arrests?\n",
    "3. When are most arrests made?\n",
    "4. Is there racial bias in NYPD arrests?"
   ]
  },
  {
   "cell_type": "markdown",
   "metadata": {},
   "source": [
    "## Pre-step: Load the data\n",
    "\n",
    "Load CSV file into a dataframe."
   ]
  },
  {
   "cell_type": "code",
   "execution_count": 1,
   "metadata": {},
   "outputs": [],
   "source": [
    "import pandas as pd\n",
    "import os"
   ]
  },
  {
   "cell_type": "code",
   "execution_count": 2,
   "metadata": {},
   "outputs": [
    {
     "data": {
      "text/html": [
       "<div>\n",
       "<style scoped>\n",
       "    .dataframe tbody tr th:only-of-type {\n",
       "        vertical-align: middle;\n",
       "    }\n",
       "\n",
       "    .dataframe tbody tr th {\n",
       "        vertical-align: top;\n",
       "    }\n",
       "\n",
       "    .dataframe thead th {\n",
       "        text-align: right;\n",
       "    }\n",
       "</style>\n",
       "<table border=\"1\" class=\"dataframe\">\n",
       "  <thead>\n",
       "    <tr style=\"text-align: right;\">\n",
       "      <th></th>\n",
       "      <th>ARREST_KEY</th>\n",
       "      <th>ARREST_DATE</th>\n",
       "      <th>PD_CD</th>\n",
       "      <th>PD_DESC</th>\n",
       "      <th>KY_CD</th>\n",
       "      <th>OFNS_DESC</th>\n",
       "      <th>LAW_CODE</th>\n",
       "      <th>LAW_CAT_CD</th>\n",
       "      <th>ARREST_BORO</th>\n",
       "      <th>ARREST_PRECINCT</th>\n",
       "      <th>JURISDICTION_CODE</th>\n",
       "      <th>AGE_GROUP</th>\n",
       "      <th>PERP_SEX</th>\n",
       "      <th>PERP_RACE</th>\n",
       "      <th>X_COORD_CD</th>\n",
       "      <th>Y_COORD_CD</th>\n",
       "      <th>Latitude</th>\n",
       "      <th>Longitude</th>\n",
       "    </tr>\n",
       "  </thead>\n",
       "  <tbody>\n",
       "    <tr>\n",
       "      <th>0</th>\n",
       "      <td>206892169</td>\n",
       "      <td>12/31/2019</td>\n",
       "      <td>907.0</td>\n",
       "      <td>IMPAIRED DRIVING,DRUG</td>\n",
       "      <td>347.0</td>\n",
       "      <td>INTOXICATED &amp; IMPAIRED DRIVING</td>\n",
       "      <td>VTL11920U4</td>\n",
       "      <td>M</td>\n",
       "      <td>M</td>\n",
       "      <td>33</td>\n",
       "      <td>0</td>\n",
       "      <td>25-44</td>\n",
       "      <td>M</td>\n",
       "      <td>WHITE</td>\n",
       "      <td>1000916</td>\n",
       "      <td>245710</td>\n",
       "      <td>40.841085</td>\n",
       "      <td>-73.939769</td>\n",
       "    </tr>\n",
       "    <tr>\n",
       "      <th>1</th>\n",
       "      <td>206888084</td>\n",
       "      <td>12/31/2019</td>\n",
       "      <td>739.0</td>\n",
       "      <td>FRAUD,UNCLASSIFIED-FELONY</td>\n",
       "      <td>112.0</td>\n",
       "      <td>THEFT-FRAUD</td>\n",
       "      <td>PL 1908301</td>\n",
       "      <td>F</td>\n",
       "      <td>Q</td>\n",
       "      <td>101</td>\n",
       "      <td>0</td>\n",
       "      <td>25-44</td>\n",
       "      <td>M</td>\n",
       "      <td>BLACK HISPANIC</td>\n",
       "      <td>1055868</td>\n",
       "      <td>156522</td>\n",
       "      <td>40.596012</td>\n",
       "      <td>-73.742116</td>\n",
       "    </tr>\n",
       "    <tr>\n",
       "      <th>2</th>\n",
       "      <td>206890433</td>\n",
       "      <td>12/31/2019</td>\n",
       "      <td>122.0</td>\n",
       "      <td>HOMICIDE, NEGLIGENT, VEHICLE,</td>\n",
       "      <td>102.0</td>\n",
       "      <td>HOMICIDE-NEGLIGENT-VEHICLE</td>\n",
       "      <td>PL 1251201</td>\n",
       "      <td>F</td>\n",
       "      <td>M</td>\n",
       "      <td>23</td>\n",
       "      <td>0</td>\n",
       "      <td>18-24</td>\n",
       "      <td>M</td>\n",
       "      <td>BLACK</td>\n",
       "      <td>997462</td>\n",
       "      <td>227024</td>\n",
       "      <td>40.789803</td>\n",
       "      <td>-73.952289</td>\n",
       "    </tr>\n",
       "    <tr>\n",
       "      <th>3</th>\n",
       "      <td>206890441</td>\n",
       "      <td>12/31/2019</td>\n",
       "      <td>268.0</td>\n",
       "      <td>CRIMINAL MIS 2 &amp; 3</td>\n",
       "      <td>121.0</td>\n",
       "      <td>CRIMINAL MISCHIEF &amp; RELATED OF</td>\n",
       "      <td>PL 1450502</td>\n",
       "      <td>F</td>\n",
       "      <td>S</td>\n",
       "      <td>120</td>\n",
       "      <td>0</td>\n",
       "      <td>18-24</td>\n",
       "      <td>M</td>\n",
       "      <td>BLACK</td>\n",
       "      <td>962822</td>\n",
       "      <td>174282</td>\n",
       "      <td>40.645023</td>\n",
       "      <td>-74.077217</td>\n",
       "    </tr>\n",
       "    <tr>\n",
       "      <th>4</th>\n",
       "      <td>206890973</td>\n",
       "      <td>12/31/2019</td>\n",
       "      <td>101.0</td>\n",
       "      <td>ASSAULT 3</td>\n",
       "      <td>344.0</td>\n",
       "      <td>ASSAULT 3 &amp; RELATED OFFENSES</td>\n",
       "      <td>PL 1200001</td>\n",
       "      <td>M</td>\n",
       "      <td>M</td>\n",
       "      <td>25</td>\n",
       "      <td>97</td>\n",
       "      <td>25-44</td>\n",
       "      <td>M</td>\n",
       "      <td>BLACK</td>\n",
       "      <td>1004138</td>\n",
       "      <td>226326</td>\n",
       "      <td>40.787875</td>\n",
       "      <td>-73.928182</td>\n",
       "    </tr>\n",
       "  </tbody>\n",
       "</table>\n",
       "</div>"
      ],
      "text/plain": [
       "   ARREST_KEY ARREST_DATE  PD_CD                        PD_DESC  KY_CD  \\\n",
       "0   206892169  12/31/2019  907.0          IMPAIRED DRIVING,DRUG  347.0   \n",
       "1   206888084  12/31/2019  739.0      FRAUD,UNCLASSIFIED-FELONY  112.0   \n",
       "2   206890433  12/31/2019  122.0  HOMICIDE, NEGLIGENT, VEHICLE,  102.0   \n",
       "3   206890441  12/31/2019  268.0             CRIMINAL MIS 2 & 3  121.0   \n",
       "4   206890973  12/31/2019  101.0                      ASSAULT 3  344.0   \n",
       "\n",
       "                        OFNS_DESC    LAW_CODE LAW_CAT_CD ARREST_BORO  \\\n",
       "0  INTOXICATED & IMPAIRED DRIVING  VTL11920U4          M           M   \n",
       "1                     THEFT-FRAUD  PL 1908301          F           Q   \n",
       "2      HOMICIDE-NEGLIGENT-VEHICLE  PL 1251201          F           M   \n",
       "3  CRIMINAL MISCHIEF & RELATED OF  PL 1450502          F           S   \n",
       "4    ASSAULT 3 & RELATED OFFENSES  PL 1200001          M           M   \n",
       "\n",
       "   ARREST_PRECINCT  JURISDICTION_CODE AGE_GROUP PERP_SEX       PERP_RACE  \\\n",
       "0               33                  0     25-44        M           WHITE   \n",
       "1              101                  0     25-44        M  BLACK HISPANIC   \n",
       "2               23                  0     18-24        M           BLACK   \n",
       "3              120                  0     18-24        M           BLACK   \n",
       "4               25                 97     25-44        M           BLACK   \n",
       "\n",
       "   X_COORD_CD  Y_COORD_CD   Latitude  Longitude  \n",
       "0     1000916      245710  40.841085 -73.939769  \n",
       "1     1055868      156522  40.596012 -73.742116  \n",
       "2      997462      227024  40.789803 -73.952289  \n",
       "3      962822      174282  40.645023 -74.077217  \n",
       "4     1004138      226326  40.787875 -73.928182  "
      ]
     },
     "execution_count": 2,
     "metadata": {},
     "output_type": "execute_result"
    }
   ],
   "source": [
    "csv_fpath = os.path.expanduser('~/personal_project/NYPD_Arrest_Data__Year_to_Date_.csv')\n",
    "nypd = pd.read_csv(csv_fpath)\n",
    "nypd.head()"
   ]
  },
  {
   "cell_type": "markdown",
   "metadata": {},
   "source": [
    "Count the total number of records to get an estimate of how large the dataframe is."
   ]
  },
  {
   "cell_type": "code",
   "execution_count": 3,
   "metadata": {},
   "outputs": [
    {
     "data": {
      "text/plain": [
       "(214617, 18)"
      ]
     },
     "execution_count": 3,
     "metadata": {},
     "output_type": "execute_result"
    }
   ],
   "source": [
    "nypd.shape"
   ]
  },
  {
   "cell_type": "markdown",
   "metadata": {},
   "source": [
    "## Part 1: Data cleaning\n",
    "## Check for missing values"
   ]
  },
  {
   "cell_type": "code",
   "execution_count": 4,
   "metadata": {},
   "outputs": [
    {
     "data": {
      "text/plain": [
       "True"
      ]
     },
     "execution_count": 4,
     "metadata": {},
     "output_type": "execute_result"
    }
   ],
   "source": [
    "nypd.isnull().values.any()"
   ]
  },
  {
   "cell_type": "markdown",
   "metadata": {},
   "source": [
    "The code above returns True, which confirms that there are missing values in the dataframe. We can check the sum of these missing values by running the cell below:"
   ]
  },
  {
   "cell_type": "code",
   "execution_count": 5,
   "metadata": {},
   "outputs": [
    {
     "data": {
      "text/plain": [
       "1887"
      ]
     },
     "execution_count": 5,
     "metadata": {},
     "output_type": "execute_result"
    }
   ],
   "source": [
    "nypd.isnull().values.sum()"
   ]
  },
  {
   "cell_type": "markdown",
   "metadata": {},
   "source": [
    "Although 1887 values seem like a lot, this number is still relatively small considering that there are over 200,000 records in the dataframe. We can still delete these records so that we are only analyzing on valid records with no missing values."
   ]
  },
  {
   "cell_type": "code",
   "execution_count": 6,
   "metadata": {},
   "outputs": [
    {
     "data": {
      "text/plain": [
       "213089"
      ]
     },
     "execution_count": 6,
     "metadata": {},
     "output_type": "execute_result"
    }
   ],
   "source": [
    "nypd.dropna(axis = 0, how = \"any\", inplace = True)\n",
    "len(nypd)"
   ]
  },
  {
   "cell_type": "markdown",
   "metadata": {},
   "source": [
    "After deleting records with NaN values, our dataframe now contains 213,089 records. I used 'how = \"any\"' to delete an entire record if any NaN values are present."
   ]
  },
  {
   "cell_type": "code",
   "execution_count": 7,
   "metadata": {},
   "outputs": [
    {
     "data": {
      "text/plain": [
       "False"
      ]
     },
     "execution_count": 7,
     "metadata": {},
     "output_type": "execute_result"
    }
   ],
   "source": [
    "#TEST\n",
    "nypd.isnull().values.any()"
   ]
  },
  {
   "cell_type": "markdown",
   "metadata": {},
   "source": [
    "## Check for duplicate records"
   ]
  },
  {
   "cell_type": "markdown",
   "metadata": {},
   "source": [
    "We can check for duplicate records by using pd.DataFrame.duplicated. Because each 'ARREST_KEY' is supposed to be unique, we can just check that specific column for any duplicated values in the dataframe. The code below returns False, which indicates that all 213,089 records are unique."
   ]
  },
  {
   "cell_type": "code",
   "execution_count": 8,
   "metadata": {},
   "outputs": [
    {
     "data": {
      "text/plain": [
       "False"
      ]
     },
     "execution_count": 8,
     "metadata": {},
     "output_type": "execute_result"
    }
   ],
   "source": [
    "nypd['ARREST_KEY'].duplicated().any()"
   ]
  },
  {
   "cell_type": "markdown",
   "metadata": {},
   "source": [
    "## Drop unnecessary columns"
   ]
  },
  {
   "cell_type": "markdown",
   "metadata": {},
   "source": [
    "Our current dataframe contains 18 columns. A description of what each column represents is available on the website listed on the top of this notebook. Although each column has a specific purpose, we can drop the columns that are not relevant for our analysis. <br>\n",
    "\n",
    "For our purposes, I will be deleting 7 columns: 'KY_CD', 'OFNS_DESC', 'JURISDICTION_CODE', 'X_COORD_CD', 'Y_COORD_CD', 'Latitude', and 'Longitude'. 'KY_CD' and 'OFNS_DESC' are similar to 'PD_CD' and 'PD_DESC'; 'PD_CD' and 'KY_CD' are a three digit code, and 'PD_DESC' and 'OFNS_DESC' are descriptions that correspond to their three digit code. The only difference is that 'KY_CD' and 'OFNS_DESC' are more general than 'PD_CD' and 'PD_DESC', so it might be more helpful to keep the values that are more specific."
   ]
  },
  {
   "cell_type": "code",
   "execution_count": 9,
   "metadata": {},
   "outputs": [
    {
     "data": {
      "text/html": [
       "<div>\n",
       "<style scoped>\n",
       "    .dataframe tbody tr th:only-of-type {\n",
       "        vertical-align: middle;\n",
       "    }\n",
       "\n",
       "    .dataframe tbody tr th {\n",
       "        vertical-align: top;\n",
       "    }\n",
       "\n",
       "    .dataframe thead th {\n",
       "        text-align: right;\n",
       "    }\n",
       "</style>\n",
       "<table border=\"1\" class=\"dataframe\">\n",
       "  <thead>\n",
       "    <tr style=\"text-align: right;\">\n",
       "      <th></th>\n",
       "      <th>ARREST_KEY</th>\n",
       "      <th>ARREST_DATE</th>\n",
       "      <th>PD_CD</th>\n",
       "      <th>PD_DESC</th>\n",
       "      <th>LAW_CODE</th>\n",
       "      <th>LAW_CAT_CD</th>\n",
       "      <th>ARREST_BORO</th>\n",
       "      <th>ARREST_PRECINCT</th>\n",
       "      <th>AGE_GROUP</th>\n",
       "      <th>PERP_SEX</th>\n",
       "      <th>PERP_RACE</th>\n",
       "    </tr>\n",
       "  </thead>\n",
       "  <tbody>\n",
       "    <tr>\n",
       "      <th>0</th>\n",
       "      <td>206892169</td>\n",
       "      <td>12/31/2019</td>\n",
       "      <td>907.0</td>\n",
       "      <td>IMPAIRED DRIVING,DRUG</td>\n",
       "      <td>VTL11920U4</td>\n",
       "      <td>M</td>\n",
       "      <td>M</td>\n",
       "      <td>33</td>\n",
       "      <td>25-44</td>\n",
       "      <td>M</td>\n",
       "      <td>WHITE</td>\n",
       "    </tr>\n",
       "    <tr>\n",
       "      <th>1</th>\n",
       "      <td>206888084</td>\n",
       "      <td>12/31/2019</td>\n",
       "      <td>739.0</td>\n",
       "      <td>FRAUD,UNCLASSIFIED-FELONY</td>\n",
       "      <td>PL 1908301</td>\n",
       "      <td>F</td>\n",
       "      <td>Q</td>\n",
       "      <td>101</td>\n",
       "      <td>25-44</td>\n",
       "      <td>M</td>\n",
       "      <td>BLACK HISPANIC</td>\n",
       "    </tr>\n",
       "    <tr>\n",
       "      <th>2</th>\n",
       "      <td>206890433</td>\n",
       "      <td>12/31/2019</td>\n",
       "      <td>122.0</td>\n",
       "      <td>HOMICIDE, NEGLIGENT, VEHICLE,</td>\n",
       "      <td>PL 1251201</td>\n",
       "      <td>F</td>\n",
       "      <td>M</td>\n",
       "      <td>23</td>\n",
       "      <td>18-24</td>\n",
       "      <td>M</td>\n",
       "      <td>BLACK</td>\n",
       "    </tr>\n",
       "    <tr>\n",
       "      <th>3</th>\n",
       "      <td>206890441</td>\n",
       "      <td>12/31/2019</td>\n",
       "      <td>268.0</td>\n",
       "      <td>CRIMINAL MIS 2 &amp; 3</td>\n",
       "      <td>PL 1450502</td>\n",
       "      <td>F</td>\n",
       "      <td>S</td>\n",
       "      <td>120</td>\n",
       "      <td>18-24</td>\n",
       "      <td>M</td>\n",
       "      <td>BLACK</td>\n",
       "    </tr>\n",
       "    <tr>\n",
       "      <th>4</th>\n",
       "      <td>206890973</td>\n",
       "      <td>12/31/2019</td>\n",
       "      <td>101.0</td>\n",
       "      <td>ASSAULT 3</td>\n",
       "      <td>PL 1200001</td>\n",
       "      <td>M</td>\n",
       "      <td>M</td>\n",
       "      <td>25</td>\n",
       "      <td>25-44</td>\n",
       "      <td>M</td>\n",
       "      <td>BLACK</td>\n",
       "    </tr>\n",
       "  </tbody>\n",
       "</table>\n",
       "</div>"
      ],
      "text/plain": [
       "   ARREST_KEY ARREST_DATE  PD_CD                        PD_DESC    LAW_CODE  \\\n",
       "0   206892169  12/31/2019  907.0          IMPAIRED DRIVING,DRUG  VTL11920U4   \n",
       "1   206888084  12/31/2019  739.0      FRAUD,UNCLASSIFIED-FELONY  PL 1908301   \n",
       "2   206890433  12/31/2019  122.0  HOMICIDE, NEGLIGENT, VEHICLE,  PL 1251201   \n",
       "3   206890441  12/31/2019  268.0             CRIMINAL MIS 2 & 3  PL 1450502   \n",
       "4   206890973  12/31/2019  101.0                      ASSAULT 3  PL 1200001   \n",
       "\n",
       "  LAW_CAT_CD ARREST_BORO  ARREST_PRECINCT AGE_GROUP PERP_SEX       PERP_RACE  \n",
       "0          M           M               33     25-44        M           WHITE  \n",
       "1          F           Q              101     25-44        M  BLACK HISPANIC  \n",
       "2          F           M               23     18-24        M           BLACK  \n",
       "3          F           S              120     18-24        M           BLACK  \n",
       "4          M           M               25     25-44        M           BLACK  "
      ]
     },
     "execution_count": 9,
     "metadata": {},
     "output_type": "execute_result"
    }
   ],
   "source": [
    "nypd.drop(columns=['KY_CD', 'OFNS_DESC', 'JURISDICTION_CODE', 'X_COORD_CD', 'Y_COORD_CD', 'Latitude','Longitude'], inplace=True)\n",
    "nypd.head()"
   ]
  },
  {
   "cell_type": "markdown",
   "metadata": {},
   "source": [
    "Now our dataframe only has 11 columns."
   ]
  },
  {
   "cell_type": "markdown",
   "metadata": {},
   "source": [
    "## Replace values"
   ]
  },
  {
   "cell_type": "markdown",
   "metadata": {},
   "source": [
    "Replace values in certain columns for readability."
   ]
  },
  {
   "cell_type": "code",
   "execution_count": 10,
   "metadata": {},
   "outputs": [
    {
     "data": {
      "text/html": [
       "<div>\n",
       "<style scoped>\n",
       "    .dataframe tbody tr th:only-of-type {\n",
       "        vertical-align: middle;\n",
       "    }\n",
       "\n",
       "    .dataframe tbody tr th {\n",
       "        vertical-align: top;\n",
       "    }\n",
       "\n",
       "    .dataframe thead th {\n",
       "        text-align: right;\n",
       "    }\n",
       "</style>\n",
       "<table border=\"1\" class=\"dataframe\">\n",
       "  <thead>\n",
       "    <tr style=\"text-align: right;\">\n",
       "      <th></th>\n",
       "      <th>ARREST_KEY</th>\n",
       "      <th>ARREST_DATE</th>\n",
       "      <th>PD_CD</th>\n",
       "      <th>PD_DESC</th>\n",
       "      <th>LAW_CODE</th>\n",
       "      <th>LAW_CAT_CD</th>\n",
       "      <th>ARREST_BORO</th>\n",
       "      <th>ARREST_PRECINCT</th>\n",
       "      <th>AGE_GROUP</th>\n",
       "      <th>PERP_SEX</th>\n",
       "      <th>PERP_RACE</th>\n",
       "    </tr>\n",
       "  </thead>\n",
       "  <tbody>\n",
       "    <tr>\n",
       "      <th>0</th>\n",
       "      <td>206892169</td>\n",
       "      <td>12/31/2019</td>\n",
       "      <td>907.0</td>\n",
       "      <td>IMPAIRED DRIVING,DRUG</td>\n",
       "      <td>VTL11920U4</td>\n",
       "      <td>M</td>\n",
       "      <td>MANHATTAN</td>\n",
       "      <td>33</td>\n",
       "      <td>25-44</td>\n",
       "      <td>M</td>\n",
       "      <td>WHITE</td>\n",
       "    </tr>\n",
       "    <tr>\n",
       "      <th>1</th>\n",
       "      <td>206888084</td>\n",
       "      <td>12/31/2019</td>\n",
       "      <td>739.0</td>\n",
       "      <td>FRAUD,UNCLASSIFIED-FELONY</td>\n",
       "      <td>PL 1908301</td>\n",
       "      <td>F</td>\n",
       "      <td>QUEENS</td>\n",
       "      <td>101</td>\n",
       "      <td>25-44</td>\n",
       "      <td>M</td>\n",
       "      <td>BLACK HISPANIC</td>\n",
       "    </tr>\n",
       "    <tr>\n",
       "      <th>2</th>\n",
       "      <td>206890433</td>\n",
       "      <td>12/31/2019</td>\n",
       "      <td>122.0</td>\n",
       "      <td>HOMICIDE, NEGLIGENT, VEHICLE,</td>\n",
       "      <td>PL 1251201</td>\n",
       "      <td>F</td>\n",
       "      <td>MANHATTAN</td>\n",
       "      <td>23</td>\n",
       "      <td>18-24</td>\n",
       "      <td>M</td>\n",
       "      <td>BLACK</td>\n",
       "    </tr>\n",
       "    <tr>\n",
       "      <th>3</th>\n",
       "      <td>206890441</td>\n",
       "      <td>12/31/2019</td>\n",
       "      <td>268.0</td>\n",
       "      <td>CRIMINAL MIS 2 &amp; 3</td>\n",
       "      <td>PL 1450502</td>\n",
       "      <td>F</td>\n",
       "      <td>STATEN ISLAND</td>\n",
       "      <td>120</td>\n",
       "      <td>18-24</td>\n",
       "      <td>M</td>\n",
       "      <td>BLACK</td>\n",
       "    </tr>\n",
       "    <tr>\n",
       "      <th>4</th>\n",
       "      <td>206890973</td>\n",
       "      <td>12/31/2019</td>\n",
       "      <td>101.0</td>\n",
       "      <td>ASSAULT 3</td>\n",
       "      <td>PL 1200001</td>\n",
       "      <td>M</td>\n",
       "      <td>MANHATTAN</td>\n",
       "      <td>25</td>\n",
       "      <td>25-44</td>\n",
       "      <td>M</td>\n",
       "      <td>BLACK</td>\n",
       "    </tr>\n",
       "  </tbody>\n",
       "</table>\n",
       "</div>"
      ],
      "text/plain": [
       "   ARREST_KEY ARREST_DATE  PD_CD                        PD_DESC    LAW_CODE  \\\n",
       "0   206892169  12/31/2019  907.0          IMPAIRED DRIVING,DRUG  VTL11920U4   \n",
       "1   206888084  12/31/2019  739.0      FRAUD,UNCLASSIFIED-FELONY  PL 1908301   \n",
       "2   206890433  12/31/2019  122.0  HOMICIDE, NEGLIGENT, VEHICLE,  PL 1251201   \n",
       "3   206890441  12/31/2019  268.0             CRIMINAL MIS 2 & 3  PL 1450502   \n",
       "4   206890973  12/31/2019  101.0                      ASSAULT 3  PL 1200001   \n",
       "\n",
       "  LAW_CAT_CD    ARREST_BORO  ARREST_PRECINCT AGE_GROUP PERP_SEX  \\\n",
       "0          M      MANHATTAN               33     25-44        M   \n",
       "1          F         QUEENS              101     25-44        M   \n",
       "2          F      MANHATTAN               23     18-24        M   \n",
       "3          F  STATEN ISLAND              120     18-24        M   \n",
       "4          M      MANHATTAN               25     25-44        M   \n",
       "\n",
       "        PERP_RACE  \n",
       "0           WHITE  \n",
       "1  BLACK HISPANIC  \n",
       "2           BLACK  \n",
       "3           BLACK  \n",
       "4           BLACK  "
      ]
     },
     "execution_count": 10,
     "metadata": {},
     "output_type": "execute_result"
    }
   ],
   "source": [
    "nypd['ARREST_BORO'].replace(['M','B','K','Q','S'],['MANHATTAN','BRONX','BROOKLYN','QUEENS','STATEN ISLAND'], inplace=True)\n",
    "nypd.head()"
   ]
  },
  {
   "cell_type": "markdown",
   "metadata": {},
   "source": [
    "Replace values in the LAW_CAT_CD column"
   ]
  },
  {
   "cell_type": "code",
   "execution_count": 11,
   "metadata": {},
   "outputs": [
    {
     "data": {
      "text/html": [
       "<div>\n",
       "<style scoped>\n",
       "    .dataframe tbody tr th:only-of-type {\n",
       "        vertical-align: middle;\n",
       "    }\n",
       "\n",
       "    .dataframe tbody tr th {\n",
       "        vertical-align: top;\n",
       "    }\n",
       "\n",
       "    .dataframe thead th {\n",
       "        text-align: right;\n",
       "    }\n",
       "</style>\n",
       "<table border=\"1\" class=\"dataframe\">\n",
       "  <thead>\n",
       "    <tr style=\"text-align: right;\">\n",
       "      <th></th>\n",
       "      <th>ARREST_KEY</th>\n",
       "      <th>ARREST_DATE</th>\n",
       "      <th>PD_CD</th>\n",
       "      <th>PD_DESC</th>\n",
       "      <th>LAW_CODE</th>\n",
       "      <th>LAW_CAT_CD</th>\n",
       "      <th>ARREST_BORO</th>\n",
       "      <th>ARREST_PRECINCT</th>\n",
       "      <th>AGE_GROUP</th>\n",
       "      <th>PERP_SEX</th>\n",
       "      <th>PERP_RACE</th>\n",
       "    </tr>\n",
       "  </thead>\n",
       "  <tbody>\n",
       "    <tr>\n",
       "      <th>0</th>\n",
       "      <td>206892169</td>\n",
       "      <td>12/31/2019</td>\n",
       "      <td>907.0</td>\n",
       "      <td>IMPAIRED DRIVING,DRUG</td>\n",
       "      <td>VTL11920U4</td>\n",
       "      <td>MISDEMEANOR</td>\n",
       "      <td>MANHATTAN</td>\n",
       "      <td>33</td>\n",
       "      <td>25-44</td>\n",
       "      <td>M</td>\n",
       "      <td>WHITE</td>\n",
       "    </tr>\n",
       "    <tr>\n",
       "      <th>1</th>\n",
       "      <td>206888084</td>\n",
       "      <td>12/31/2019</td>\n",
       "      <td>739.0</td>\n",
       "      <td>FRAUD,UNCLASSIFIED-FELONY</td>\n",
       "      <td>PL 1908301</td>\n",
       "      <td>FELONY</td>\n",
       "      <td>QUEENS</td>\n",
       "      <td>101</td>\n",
       "      <td>25-44</td>\n",
       "      <td>M</td>\n",
       "      <td>BLACK HISPANIC</td>\n",
       "    </tr>\n",
       "    <tr>\n",
       "      <th>2</th>\n",
       "      <td>206890433</td>\n",
       "      <td>12/31/2019</td>\n",
       "      <td>122.0</td>\n",
       "      <td>HOMICIDE, NEGLIGENT, VEHICLE,</td>\n",
       "      <td>PL 1251201</td>\n",
       "      <td>FELONY</td>\n",
       "      <td>MANHATTAN</td>\n",
       "      <td>23</td>\n",
       "      <td>18-24</td>\n",
       "      <td>M</td>\n",
       "      <td>BLACK</td>\n",
       "    </tr>\n",
       "    <tr>\n",
       "      <th>3</th>\n",
       "      <td>206890441</td>\n",
       "      <td>12/31/2019</td>\n",
       "      <td>268.0</td>\n",
       "      <td>CRIMINAL MIS 2 &amp; 3</td>\n",
       "      <td>PL 1450502</td>\n",
       "      <td>FELONY</td>\n",
       "      <td>STATEN ISLAND</td>\n",
       "      <td>120</td>\n",
       "      <td>18-24</td>\n",
       "      <td>M</td>\n",
       "      <td>BLACK</td>\n",
       "    </tr>\n",
       "    <tr>\n",
       "      <th>4</th>\n",
       "      <td>206890973</td>\n",
       "      <td>12/31/2019</td>\n",
       "      <td>101.0</td>\n",
       "      <td>ASSAULT 3</td>\n",
       "      <td>PL 1200001</td>\n",
       "      <td>MISDEMEANOR</td>\n",
       "      <td>MANHATTAN</td>\n",
       "      <td>25</td>\n",
       "      <td>25-44</td>\n",
       "      <td>M</td>\n",
       "      <td>BLACK</td>\n",
       "    </tr>\n",
       "  </tbody>\n",
       "</table>\n",
       "</div>"
      ],
      "text/plain": [
       "   ARREST_KEY ARREST_DATE  PD_CD                        PD_DESC    LAW_CODE  \\\n",
       "0   206892169  12/31/2019  907.0          IMPAIRED DRIVING,DRUG  VTL11920U4   \n",
       "1   206888084  12/31/2019  739.0      FRAUD,UNCLASSIFIED-FELONY  PL 1908301   \n",
       "2   206890433  12/31/2019  122.0  HOMICIDE, NEGLIGENT, VEHICLE,  PL 1251201   \n",
       "3   206890441  12/31/2019  268.0             CRIMINAL MIS 2 & 3  PL 1450502   \n",
       "4   206890973  12/31/2019  101.0                      ASSAULT 3  PL 1200001   \n",
       "\n",
       "    LAW_CAT_CD    ARREST_BORO  ARREST_PRECINCT AGE_GROUP PERP_SEX  \\\n",
       "0  MISDEMEANOR      MANHATTAN               33     25-44        M   \n",
       "1       FELONY         QUEENS              101     25-44        M   \n",
       "2       FELONY      MANHATTAN               23     18-24        M   \n",
       "3       FELONY  STATEN ISLAND              120     18-24        M   \n",
       "4  MISDEMEANOR      MANHATTAN               25     25-44        M   \n",
       "\n",
       "        PERP_RACE  \n",
       "0           WHITE  \n",
       "1  BLACK HISPANIC  \n",
       "2           BLACK  \n",
       "3           BLACK  \n",
       "4           BLACK  "
      ]
     },
     "execution_count": 11,
     "metadata": {},
     "output_type": "execute_result"
    }
   ],
   "source": [
    "nypd['LAW_CAT_CD'].replace(['F','M','V'],['FELONY','MISDEMEANOR','VIOLATION'], inplace=True)\n",
    "nypd.head()"
   ]
  },
  {
   "cell_type": "markdown",
   "metadata": {},
   "source": [
    "## Convert data type"
   ]
  },
  {
   "cell_type": "markdown",
   "metadata": {},
   "source": [
    "I noticed that all values in the PD_CD column are stored as floats. However, all unique values of this column have a decimal point of 0. We can confirm this by printing all the unique values of this column. "
   ]
  },
  {
   "cell_type": "code",
   "execution_count": 12,
   "metadata": {},
   "outputs": [
    {
     "data": {
      "text/plain": [
       "array([907., 739., 122., 268., 101., 175., 503., 759., 112., 244., 339.,\n",
       "       114., 259., 922., 397., 105., 113., 269., 779., 782., 750., 793.,\n",
       "       905., 203., 748., 847., 511., 969., 109., 439., 707., 223., 104.,\n",
       "       139., 792., 705., 117., 744., 862., 639., 205., 729., 799., 494.,\n",
       "       507., 510., 681., 419., 179., 441., 462., 718., 106., 478., 764.,\n",
       "       698., 157., 505., 254., 490., 643., 258., 198., 849., 848., 787.,\n",
       "       168., 904., 633., 125., 466., 461., 514., 209., 708., 263., 181.,\n",
       "       199., 961., 493., 115., 918., 916., 509., 641., 781., 760., 515.,\n",
       "       567., 508., 273., 569., 502., 802., 475., 544., 661., 568., 585.,\n",
       "       766., 479., 640., 563., 565., 521., 809., 725., 293., 940., 957.,\n",
       "       570., 177., 665., 409., 201., 164., 625., 129., 301., 812., 596.,\n",
       "       874., 649., 817., 477., 566., 878., 512., 808., 185., 501., 500.,\n",
       "       746., 195., 180., 176., 553., 909., 291., 586., 174., 696., 289.,\n",
       "       775., 879., 697., 204., 733., 594., 153., 877., 645., 637., 688.,\n",
       "       662., 548., 652., 155., 557., 170., 638., 277., 183., 531., 520.,\n",
       "       939., 687., 968., 271., 523., 727., 197., 724., 513., 297., 299.,\n",
       "       256., 576., 784., 267., 844., 464., 906., 772., 617., 166., 762.,\n",
       "       706., 827., 265., 770., 872., 380., 537., 719., 107., 695., 584.,\n",
       "       627., 694., 261., 644., 593., 965., 794., 876., 604., 731., 283.,\n",
       "       889., 610., 667., 574., 899., 672., 532., 703., 701., 803., 818.,\n",
       "       529., 742., 963., 186., 193., 685., 530., 972., 187., 519., 973.,\n",
       "       674., 647., 659., 588., 248., 191., 947., 789., 591., 587., 788.,\n",
       "       783., 943., 780., 405., 932., 846., 815., 533., 711., 785., 749.,\n",
       "       476., 933., 438., 664., 841., 595., 379., 997.])"
      ]
     },
     "execution_count": 12,
     "metadata": {},
     "output_type": "execute_result"
    }
   ],
   "source": [
    "nypd['PD_CD'].unique()"
   ]
  },
  {
   "cell_type": "markdown",
   "metadata": {},
   "source": [
    "Because all values in this column have a decimal point of 0, it would not hurt to convert the data type of this column from float to int."
   ]
  },
  {
   "cell_type": "code",
   "execution_count": 13,
   "metadata": {},
   "outputs": [
    {
     "data": {
      "text/html": [
       "<div>\n",
       "<style scoped>\n",
       "    .dataframe tbody tr th:only-of-type {\n",
       "        vertical-align: middle;\n",
       "    }\n",
       "\n",
       "    .dataframe tbody tr th {\n",
       "        vertical-align: top;\n",
       "    }\n",
       "\n",
       "    .dataframe thead th {\n",
       "        text-align: right;\n",
       "    }\n",
       "</style>\n",
       "<table border=\"1\" class=\"dataframe\">\n",
       "  <thead>\n",
       "    <tr style=\"text-align: right;\">\n",
       "      <th></th>\n",
       "      <th>ARREST_KEY</th>\n",
       "      <th>ARREST_DATE</th>\n",
       "      <th>PD_CD</th>\n",
       "      <th>PD_DESC</th>\n",
       "      <th>LAW_CODE</th>\n",
       "      <th>LAW_CAT_CD</th>\n",
       "      <th>ARREST_BORO</th>\n",
       "      <th>ARREST_PRECINCT</th>\n",
       "      <th>AGE_GROUP</th>\n",
       "      <th>PERP_SEX</th>\n",
       "      <th>PERP_RACE</th>\n",
       "    </tr>\n",
       "  </thead>\n",
       "  <tbody>\n",
       "    <tr>\n",
       "      <th>0</th>\n",
       "      <td>206892169</td>\n",
       "      <td>12/31/2019</td>\n",
       "      <td>907</td>\n",
       "      <td>IMPAIRED DRIVING,DRUG</td>\n",
       "      <td>VTL11920U4</td>\n",
       "      <td>MISDEMEANOR</td>\n",
       "      <td>MANHATTAN</td>\n",
       "      <td>33</td>\n",
       "      <td>25-44</td>\n",
       "      <td>M</td>\n",
       "      <td>WHITE</td>\n",
       "    </tr>\n",
       "    <tr>\n",
       "      <th>1</th>\n",
       "      <td>206888084</td>\n",
       "      <td>12/31/2019</td>\n",
       "      <td>739</td>\n",
       "      <td>FRAUD,UNCLASSIFIED-FELONY</td>\n",
       "      <td>PL 1908301</td>\n",
       "      <td>FELONY</td>\n",
       "      <td>QUEENS</td>\n",
       "      <td>101</td>\n",
       "      <td>25-44</td>\n",
       "      <td>M</td>\n",
       "      <td>BLACK HISPANIC</td>\n",
       "    </tr>\n",
       "    <tr>\n",
       "      <th>2</th>\n",
       "      <td>206890433</td>\n",
       "      <td>12/31/2019</td>\n",
       "      <td>122</td>\n",
       "      <td>HOMICIDE, NEGLIGENT, VEHICLE,</td>\n",
       "      <td>PL 1251201</td>\n",
       "      <td>FELONY</td>\n",
       "      <td>MANHATTAN</td>\n",
       "      <td>23</td>\n",
       "      <td>18-24</td>\n",
       "      <td>M</td>\n",
       "      <td>BLACK</td>\n",
       "    </tr>\n",
       "    <tr>\n",
       "      <th>3</th>\n",
       "      <td>206890441</td>\n",
       "      <td>12/31/2019</td>\n",
       "      <td>268</td>\n",
       "      <td>CRIMINAL MIS 2 &amp; 3</td>\n",
       "      <td>PL 1450502</td>\n",
       "      <td>FELONY</td>\n",
       "      <td>STATEN ISLAND</td>\n",
       "      <td>120</td>\n",
       "      <td>18-24</td>\n",
       "      <td>M</td>\n",
       "      <td>BLACK</td>\n",
       "    </tr>\n",
       "    <tr>\n",
       "      <th>4</th>\n",
       "      <td>206890973</td>\n",
       "      <td>12/31/2019</td>\n",
       "      <td>101</td>\n",
       "      <td>ASSAULT 3</td>\n",
       "      <td>PL 1200001</td>\n",
       "      <td>MISDEMEANOR</td>\n",
       "      <td>MANHATTAN</td>\n",
       "      <td>25</td>\n",
       "      <td>25-44</td>\n",
       "      <td>M</td>\n",
       "      <td>BLACK</td>\n",
       "    </tr>\n",
       "  </tbody>\n",
       "</table>\n",
       "</div>"
      ],
      "text/plain": [
       "   ARREST_KEY ARREST_DATE  PD_CD                        PD_DESC    LAW_CODE  \\\n",
       "0   206892169  12/31/2019    907          IMPAIRED DRIVING,DRUG  VTL11920U4   \n",
       "1   206888084  12/31/2019    739      FRAUD,UNCLASSIFIED-FELONY  PL 1908301   \n",
       "2   206890433  12/31/2019    122  HOMICIDE, NEGLIGENT, VEHICLE,  PL 1251201   \n",
       "3   206890441  12/31/2019    268             CRIMINAL MIS 2 & 3  PL 1450502   \n",
       "4   206890973  12/31/2019    101                      ASSAULT 3  PL 1200001   \n",
       "\n",
       "    LAW_CAT_CD    ARREST_BORO  ARREST_PRECINCT AGE_GROUP PERP_SEX  \\\n",
       "0  MISDEMEANOR      MANHATTAN               33     25-44        M   \n",
       "1       FELONY         QUEENS              101     25-44        M   \n",
       "2       FELONY      MANHATTAN               23     18-24        M   \n",
       "3       FELONY  STATEN ISLAND              120     18-24        M   \n",
       "4  MISDEMEANOR      MANHATTAN               25     25-44        M   \n",
       "\n",
       "        PERP_RACE  \n",
       "0           WHITE  \n",
       "1  BLACK HISPANIC  \n",
       "2           BLACK  \n",
       "3           BLACK  \n",
       "4           BLACK  "
      ]
     },
     "execution_count": 13,
     "metadata": {},
     "output_type": "execute_result"
    }
   ],
   "source": [
    "nypd = nypd.astype({'PD_CD':'int64'})\n",
    "nypd.head()"
   ]
  },
  {
   "cell_type": "markdown",
   "metadata": {},
   "source": [
    "## Part 2: Data visualization and analysis"
   ]
  },
  {
   "cell_type": "markdown",
   "metadata": {},
   "source": [
    "Now that our dataframe is cleaned, we can explore trends in the dataset using code and visualization."
   ]
  },
  {
   "cell_type": "code",
   "execution_count": 14,
   "metadata": {},
   "outputs": [],
   "source": [
    "import matplotlib.pyplot as plt\n",
    "import seaborn as sns"
   ]
  },
  {
   "cell_type": "markdown",
   "metadata": {},
   "source": [
    "## What is the most common reason for arrest in New York?"
   ]
  },
  {
   "cell_type": "code",
   "execution_count": 15,
   "metadata": {},
   "outputs": [
    {
     "data": {
      "text/plain": [
       "ASSAULT 3                         24513\n",
       "LARCENY,PETIT FROM OPEN AREAS,    21568\n",
       "TRAFFIC,UNCLASSIFIED MISDEMEAN    13624\n",
       "ASSAULT 2,1,UNCLASSIFIED          11498\n",
       "ROBBERY,OPEN AREA UNCLASSIFIED     9235\n",
       "                                  ...  \n",
       "TERRORISM PROVIDE SUPPORT             1\n",
       "NUISANCE, CRIMINAL                    1\n",
       "FIREWORKS PREV CONV 5 YEARS           1\n",
       "HIND PROSEC. TERR 2                   1\n",
       "ROBBERY,GAS STATION                   1\n",
       "Name: PD_DESC, Length: 252, dtype: int64"
      ]
     },
     "execution_count": 15,
     "metadata": {},
     "output_type": "execute_result"
    }
   ],
   "source": [
    "nypd['PD_DESC'].value_counts()"
   ]
  },
  {
   "cell_type": "markdown",
   "metadata": {},
   "source": [
    "We can graph the top 5 reasons for arrest."
   ]
  },
  {
   "cell_type": "code",
   "execution_count": 16,
   "metadata": {},
   "outputs": [
    {
     "data": {
      "text/plain": [
       "ASSAULT 3                         24513\n",
       "LARCENY,PETIT FROM OPEN AREAS,    21568\n",
       "TRAFFIC,UNCLASSIFIED MISDEMEAN    13624\n",
       "ASSAULT 2,1,UNCLASSIFIED          11498\n",
       "ROBBERY,OPEN AREA UNCLASSIFIED     9235\n",
       "Name: PD_DESC, dtype: int64"
      ]
     },
     "execution_count": 16,
     "metadata": {},
     "output_type": "execute_result"
    }
   ],
   "source": [
    "nypd['PD_DESC'].value_counts().head(5)"
   ]
  },
  {
   "cell_type": "markdown",
   "metadata": {},
   "source": [
    "Create a dataframe that stores the total number of arrests for the top 5 reasons."
   ]
  },
  {
   "cell_type": "code",
   "execution_count": 18,
   "metadata": {},
   "outputs": [
    {
     "data": {
      "text/html": [
       "<div>\n",
       "<style scoped>\n",
       "    .dataframe tbody tr th:only-of-type {\n",
       "        vertical-align: middle;\n",
       "    }\n",
       "\n",
       "    .dataframe tbody tr th {\n",
       "        vertical-align: top;\n",
       "    }\n",
       "\n",
       "    .dataframe thead th {\n",
       "        text-align: right;\n",
       "    }\n",
       "</style>\n",
       "<table border=\"1\" class=\"dataframe\">\n",
       "  <thead>\n",
       "    <tr style=\"text-align: right;\">\n",
       "      <th></th>\n",
       "      <th>Count</th>\n",
       "    </tr>\n",
       "  </thead>\n",
       "  <tbody>\n",
       "    <tr>\n",
       "      <th>ASSAULT 3</th>\n",
       "      <td>24513</td>\n",
       "    </tr>\n",
       "    <tr>\n",
       "      <th>LARCENY,PETIT FROM OPEN AREAS,</th>\n",
       "      <td>21568</td>\n",
       "    </tr>\n",
       "    <tr>\n",
       "      <th>TRAFFIC,UNCLASSIFIED MISDEMEAN</th>\n",
       "      <td>13624</td>\n",
       "    </tr>\n",
       "    <tr>\n",
       "      <th>ASSAULT 2,1,UNCLASSIFIED</th>\n",
       "      <td>11498</td>\n",
       "    </tr>\n",
       "    <tr>\n",
       "      <th>ROBBERY,OPEN AREA UNCLASSIFIED</th>\n",
       "      <td>9235</td>\n",
       "    </tr>\n",
       "  </tbody>\n",
       "</table>\n",
       "</div>"
      ],
      "text/plain": [
       "                                Count\n",
       "ASSAULT 3                       24513\n",
       "LARCENY,PETIT FROM OPEN AREAS,  21568\n",
       "TRAFFIC,UNCLASSIFIED MISDEMEAN  13624\n",
       "ASSAULT 2,1,UNCLASSIFIED        11498\n",
       "ROBBERY,OPEN AREA UNCLASSIFIED   9235"
      ]
     },
     "execution_count": 18,
     "metadata": {},
     "output_type": "execute_result"
    }
   ],
   "source": [
    "nypd_top_5 = nypd['PD_DESC'].value_counts().head(5).to_frame()\n",
    "nypd_top_5.columns = ['Count']\n",
    "nypd_top_5"
   ]
  },
  {
   "cell_type": "markdown",
   "metadata": {},
   "source": [
    "Plot using a bar chart."
   ]
  },
  {
   "cell_type": "code",
   "execution_count": 22,
   "metadata": {},
   "outputs": [
    {
     "data": {
      "text/plain": [
       "[Text(0, 0, 'ASSAULT 3'),\n",
       " Text(0, 0, 'LARCENY, PETIT FROM OPEN AREAS'),\n",
       " Text(0, 0, 'TRAFFIC, UNCLASSIFIED MISDEMEANOR'),\n",
       " Text(0, 0, 'ASSAULT 2,1'),\n",
       " Text(0, 0, 'ROBBERY, OPEN AREA')]"
      ]
     },
     "execution_count": 22,
     "metadata": {},
     "output_type": "execute_result"
    },
    {
     "data": {
      "image/png": "[encoded data removed]",
      "text/plain": [
       "<Figure size 1080x504 with 1 Axes>"
      ]
     },
     "metadata": {
      "needs_background": "light"
     },
     "output_type": "display_data"
    }
   ],
   "source": [
    "ax = nypd_top_5.plot(kind = 'bar', figsize = (15,7))\n",
    "ax.set_title(\"Top 5 Reasons for Arrest in New York\", fontsize=18)\n",
    "ax.set_ylabel(\"Number of arrests\", fontsize=12);\n",
    "ax.set_xticklabels(['ASSAULT 3', 'LARCENY, PETIT FROM OPEN AREAS', 'TRAFFIC, UNCLASSIFIED MISDEMEANOR', \n",
    "                    'ASSAULT 2,1', 'ROBBERY, OPEN AREA'], rotation=45, fontsize=12)"
   ]
  },
  {
   "cell_type": "markdown",
   "metadata": {},
   "source": [
    "## Which borough has the highest number of arrests?"
   ]
  },
  {
   "cell_type": "code",
   "execution_count": 24,
   "metadata": {},
   "outputs": [
    {
     "data": {
      "text/plain": [
       "BROOKLYN         58077\n",
       "MANHATTAN        53172\n",
       "BRONX            48516\n",
       "QUEENS           44329\n",
       "STATEN ISLAND     8995\n",
       "Name: ARREST_BORO, dtype: int64"
      ]
     },
     "execution_count": 24,
     "metadata": {},
     "output_type": "execute_result"
    }
   ],
   "source": [
    "nypd['ARREST_BORO'].value_counts()"
   ]
  },
  {
   "cell_type": "code",
   "execution_count": 25,
   "metadata": {},
   "outputs": [],
   "source": [
    "boroughs = ['BROOKLYN', 'MANHATTAN', 'BRONX','QUEENS','STATEN ISLAND']\n",
    "boroughs_count = [58077, 53172, 48516, 44329, 8995]"
   ]
  },
  {
   "cell_type": "code",
   "execution_count": 26,
   "metadata": {},
   "outputs": [
    {
     "data": {
      "image/png": "[encoded data removed]",
      "text/plain": [
       "<Figure size 720x504 with 1 Axes>"
      ]
     },
     "metadata": {
      "needs_background": "light"
     },
     "output_type": "display_data"
    }
   ],
   "source": [
    "plt.figure(figsize = (10, 7))\n",
    "plt.bar(x = boroughs, height = boroughs_count)\n",
    "plt.title('Arrests in Each New York City Borough')\n",
    "plt.ylabel('Number of arrests')\n",
    "plt.xlabel('Borough')\n",
    "plt.rcParams.update({'font.size': 12})\n",
    "#plt.show()"
   ]
  },
  {
   "cell_type": "markdown",
   "metadata": {},
   "source": [
    "## When are most arrests made?"
   ]
  },
  {
   "cell_type": "markdown",
   "metadata": {},
   "source": [
    "We can compute the monthly statistics of arrests in New York in 2019. With this information, we can plot the distribution of monthly count of arrests. First, we would need to create a month column."
   ]
  },
  {
   "cell_type": "code",
   "execution_count": 27,
   "metadata": {},
   "outputs": [
    {
     "data": {
      "text/html": [
       "<div>\n",
       "<style scoped>\n",
       "    .dataframe tbody tr th:only-of-type {\n",
       "        vertical-align: middle;\n",
       "    }\n",
       "\n",
       "    .dataframe tbody tr th {\n",
       "        vertical-align: top;\n",
       "    }\n",
       "\n",
       "    .dataframe thead th {\n",
       "        text-align: right;\n",
       "    }\n",
       "</style>\n",
       "<table border=\"1\" class=\"dataframe\">\n",
       "  <thead>\n",
       "    <tr style=\"text-align: right;\">\n",
       "      <th></th>\n",
       "      <th>ARREST_KEY</th>\n",
       "      <th>ARREST_DATE</th>\n",
       "      <th>PD_CD</th>\n",
       "      <th>PD_DESC</th>\n",
       "      <th>LAW_CODE</th>\n",
       "      <th>LAW_CAT_CD</th>\n",
       "      <th>ARREST_BORO</th>\n",
       "      <th>ARREST_PRECINCT</th>\n",
       "      <th>AGE_GROUP</th>\n",
       "      <th>PERP_SEX</th>\n",
       "      <th>PERP_RACE</th>\n",
       "      <th>MONTH</th>\n",
       "    </tr>\n",
       "  </thead>\n",
       "  <tbody>\n",
       "    <tr>\n",
       "      <th>0</th>\n",
       "      <td>206892169</td>\n",
       "      <td>12/31/2019</td>\n",
       "      <td>907</td>\n",
       "      <td>IMPAIRED DRIVING,DRUG</td>\n",
       "      <td>VTL11920U4</td>\n",
       "      <td>MISDEMEANOR</td>\n",
       "      <td>MANHATTAN</td>\n",
       "      <td>33</td>\n",
       "      <td>25-44</td>\n",
       "      <td>M</td>\n",
       "      <td>WHITE</td>\n",
       "      <td>12</td>\n",
       "    </tr>\n",
       "    <tr>\n",
       "      <th>1</th>\n",
       "      <td>206888084</td>\n",
       "      <td>12/31/2019</td>\n",
       "      <td>739</td>\n",
       "      <td>FRAUD,UNCLASSIFIED-FELONY</td>\n",
       "      <td>PL 1908301</td>\n",
       "      <td>FELONY</td>\n",
       "      <td>QUEENS</td>\n",
       "      <td>101</td>\n",
       "      <td>25-44</td>\n",
       "      <td>M</td>\n",
       "      <td>BLACK HISPANIC</td>\n",
       "      <td>12</td>\n",
       "    </tr>\n",
       "    <tr>\n",
       "      <th>2</th>\n",
       "      <td>206890433</td>\n",
       "      <td>12/31/2019</td>\n",
       "      <td>122</td>\n",
       "      <td>HOMICIDE, NEGLIGENT, VEHICLE,</td>\n",
       "      <td>PL 1251201</td>\n",
       "      <td>FELONY</td>\n",
       "      <td>MANHATTAN</td>\n",
       "      <td>23</td>\n",
       "      <td>18-24</td>\n",
       "      <td>M</td>\n",
       "      <td>BLACK</td>\n",
       "      <td>12</td>\n",
       "    </tr>\n",
       "    <tr>\n",
       "      <th>3</th>\n",
       "      <td>206890441</td>\n",
       "      <td>12/31/2019</td>\n",
       "      <td>268</td>\n",
       "      <td>CRIMINAL MIS 2 &amp; 3</td>\n",
       "      <td>PL 1450502</td>\n",
       "      <td>FELONY</td>\n",
       "      <td>STATEN ISLAND</td>\n",
       "      <td>120</td>\n",
       "      <td>18-24</td>\n",
       "      <td>M</td>\n",
       "      <td>BLACK</td>\n",
       "      <td>12</td>\n",
       "    </tr>\n",
       "    <tr>\n",
       "      <th>4</th>\n",
       "      <td>206890973</td>\n",
       "      <td>12/31/2019</td>\n",
       "      <td>101</td>\n",
       "      <td>ASSAULT 3</td>\n",
       "      <td>PL 1200001</td>\n",
       "      <td>MISDEMEANOR</td>\n",
       "      <td>MANHATTAN</td>\n",
       "      <td>25</td>\n",
       "      <td>25-44</td>\n",
       "      <td>M</td>\n",
       "      <td>BLACK</td>\n",
       "      <td>12</td>\n",
       "    </tr>\n",
       "  </tbody>\n",
       "</table>\n",
       "</div>"
      ],
      "text/plain": [
       "   ARREST_KEY ARREST_DATE  PD_CD                        PD_DESC    LAW_CODE  \\\n",
       "0   206892169  12/31/2019    907          IMPAIRED DRIVING,DRUG  VTL11920U4   \n",
       "1   206888084  12/31/2019    739      FRAUD,UNCLASSIFIED-FELONY  PL 1908301   \n",
       "2   206890433  12/31/2019    122  HOMICIDE, NEGLIGENT, VEHICLE,  PL 1251201   \n",
       "3   206890441  12/31/2019    268             CRIMINAL MIS 2 & 3  PL 1450502   \n",
       "4   206890973  12/31/2019    101                      ASSAULT 3  PL 1200001   \n",
       "\n",
       "    LAW_CAT_CD    ARREST_BORO  ARREST_PRECINCT AGE_GROUP PERP_SEX  \\\n",
       "0  MISDEMEANOR      MANHATTAN               33     25-44        M   \n",
       "1       FELONY         QUEENS              101     25-44        M   \n",
       "2       FELONY      MANHATTAN               23     18-24        M   \n",
       "3       FELONY  STATEN ISLAND              120     18-24        M   \n",
       "4  MISDEMEANOR      MANHATTAN               25     25-44        M   \n",
       "\n",
       "        PERP_RACE MONTH  \n",
       "0           WHITE    12  \n",
       "1  BLACK HISPANIC    12  \n",
       "2           BLACK    12  \n",
       "3           BLACK    12  \n",
       "4           BLACK    12  "
      ]
     },
     "execution_count": 27,
     "metadata": {},
     "output_type": "execute_result"
    }
   ],
   "source": [
    "nypd['MONTH'] = nypd['ARREST_DATE'].str[0:2]\n",
    "nypd.head()"
   ]
  },
  {
   "cell_type": "markdown",
   "metadata": {},
   "source": [
    "Then, create a dataframe that stores the total number of arrests for every month."
   ]
  },
  {
   "cell_type": "code",
   "execution_count": 28,
   "metadata": {},
   "outputs": [
    {
     "data": {
      "text/html": [
       "<div>\n",
       "<style scoped>\n",
       "    .dataframe tbody tr th:only-of-type {\n",
       "        vertical-align: middle;\n",
       "    }\n",
       "\n",
       "    .dataframe tbody tr th {\n",
       "        vertical-align: top;\n",
       "    }\n",
       "\n",
       "    .dataframe thead th {\n",
       "        text-align: right;\n",
       "    }\n",
       "</style>\n",
       "<table border=\"1\" class=\"dataframe\">\n",
       "  <thead>\n",
       "    <tr style=\"text-align: right;\">\n",
       "      <th></th>\n",
       "      <th>Count</th>\n",
       "    </tr>\n",
       "    <tr>\n",
       "      <th>MONTH</th>\n",
       "      <th></th>\n",
       "    </tr>\n",
       "  </thead>\n",
       "  <tbody>\n",
       "    <tr>\n",
       "      <th>01</th>\n",
       "      <td>19945</td>\n",
       "    </tr>\n",
       "    <tr>\n",
       "      <th>02</th>\n",
       "      <td>17579</td>\n",
       "    </tr>\n",
       "    <tr>\n",
       "      <th>03</th>\n",
       "      <td>19566</td>\n",
       "    </tr>\n",
       "    <tr>\n",
       "      <th>04</th>\n",
       "      <td>19059</td>\n",
       "    </tr>\n",
       "    <tr>\n",
       "      <th>05</th>\n",
       "      <td>19459</td>\n",
       "    </tr>\n",
       "    <tr>\n",
       "      <th>06</th>\n",
       "      <td>17330</td>\n",
       "    </tr>\n",
       "    <tr>\n",
       "      <th>07</th>\n",
       "      <td>19437</td>\n",
       "    </tr>\n",
       "    <tr>\n",
       "      <th>08</th>\n",
       "      <td>17975</td>\n",
       "    </tr>\n",
       "    <tr>\n",
       "      <th>09</th>\n",
       "      <td>16536</td>\n",
       "    </tr>\n",
       "    <tr>\n",
       "      <th>10</th>\n",
       "      <td>17304</td>\n",
       "    </tr>\n",
       "    <tr>\n",
       "      <th>11</th>\n",
       "      <td>15404</td>\n",
       "    </tr>\n",
       "    <tr>\n",
       "      <th>12</th>\n",
       "      <td>13495</td>\n",
       "    </tr>\n",
       "  </tbody>\n",
       "</table>\n",
       "</div>"
      ],
      "text/plain": [
       "       Count\n",
       "MONTH       \n",
       "01     19945\n",
       "02     17579\n",
       "03     19566\n",
       "04     19059\n",
       "05     19459\n",
       "06     17330\n",
       "07     19437\n",
       "08     17975\n",
       "09     16536\n",
       "10     17304\n",
       "11     15404\n",
       "12     13495"
      ]
     },
     "execution_count": 28,
     "metadata": {},
     "output_type": "execute_result"
    }
   ],
   "source": [
    "monthly_count = nypd.groupby(['MONTH']).agg({'PD_CD':'count'})\n",
    "monthly_count.columns = ['Count']\n",
    "monthly_count"
   ]
  },
  {
   "cell_type": "markdown",
   "metadata": {},
   "source": [
    "Plot the dataframe above using a line plot."
   ]
  },
  {
   "cell_type": "code",
   "execution_count": 29,
   "metadata": {},
   "outputs": [
    {
     "data": {
      "text/plain": [
       "(0, 25000)"
      ]
     },
     "execution_count": 29,
     "metadata": {},
     "output_type": "execute_result"
    },
    {
     "data": {
      "image/png": "[encoded data removed]",
      "text/plain": [
       "<Figure size 576x360 with 1 Axes>"
      ]
     },
     "metadata": {
      "needs_background": "light"
     },
     "output_type": "display_data"
    }
   ],
   "source": [
    "ax2 = monthly_count.plot(kind = 'line', figsize = (8,5))\n",
    "ax2.set_xlabel(\"Month\")\n",
    "ax2.set_ylabel(\"Number of Arrests\")\n",
    "ax2.set_title(\"Count of Arrests by Month\")\n",
    "plt.xlim(0,None)\n",
    "plt.ylim(0, 25000)"
   ]
  },
  {
   "cell_type": "markdown",
   "metadata": {},
   "source": [
    "Surprisingly, there is a decrease in arrests during the months of November and December. My hypothesis is that there is a decrease in arrests during these two months because November and December are traditionally considered to be the holiday season. To confirm if this hypothesis is valid, we can take a closer look at the month of December."
   ]
  },
  {
   "cell_type": "code",
   "execution_count": 30,
   "metadata": {},
   "outputs": [
    {
     "data": {
      "text/html": [
       "<div>\n",
       "<style scoped>\n",
       "    .dataframe tbody tr th:only-of-type {\n",
       "        vertical-align: middle;\n",
       "    }\n",
       "\n",
       "    .dataframe tbody tr th {\n",
       "        vertical-align: top;\n",
       "    }\n",
       "\n",
       "    .dataframe thead th {\n",
       "        text-align: right;\n",
       "    }\n",
       "</style>\n",
       "<table border=\"1\" class=\"dataframe\">\n",
       "  <thead>\n",
       "    <tr style=\"text-align: right;\">\n",
       "      <th></th>\n",
       "      <th>ARREST_KEY</th>\n",
       "      <th>ARREST_DATE</th>\n",
       "      <th>PD_CD</th>\n",
       "      <th>PD_DESC</th>\n",
       "      <th>LAW_CODE</th>\n",
       "      <th>LAW_CAT_CD</th>\n",
       "      <th>ARREST_BORO</th>\n",
       "      <th>ARREST_PRECINCT</th>\n",
       "      <th>AGE_GROUP</th>\n",
       "      <th>PERP_SEX</th>\n",
       "      <th>PERP_RACE</th>\n",
       "      <th>MONTH</th>\n",
       "    </tr>\n",
       "  </thead>\n",
       "  <tbody>\n",
       "    <tr>\n",
       "      <th>0</th>\n",
       "      <td>206892169</td>\n",
       "      <td>12/31/2019</td>\n",
       "      <td>907</td>\n",
       "      <td>IMPAIRED DRIVING,DRUG</td>\n",
       "      <td>VTL11920U4</td>\n",
       "      <td>MISDEMEANOR</td>\n",
       "      <td>MANHATTAN</td>\n",
       "      <td>33</td>\n",
       "      <td>25-44</td>\n",
       "      <td>M</td>\n",
       "      <td>WHITE</td>\n",
       "      <td>12</td>\n",
       "    </tr>\n",
       "    <tr>\n",
       "      <th>1</th>\n",
       "      <td>206888084</td>\n",
       "      <td>12/31/2019</td>\n",
       "      <td>739</td>\n",
       "      <td>FRAUD,UNCLASSIFIED-FELONY</td>\n",
       "      <td>PL 1908301</td>\n",
       "      <td>FELONY</td>\n",
       "      <td>QUEENS</td>\n",
       "      <td>101</td>\n",
       "      <td>25-44</td>\n",
       "      <td>M</td>\n",
       "      <td>BLACK HISPANIC</td>\n",
       "      <td>12</td>\n",
       "    </tr>\n",
       "    <tr>\n",
       "      <th>2</th>\n",
       "      <td>206890433</td>\n",
       "      <td>12/31/2019</td>\n",
       "      <td>122</td>\n",
       "      <td>HOMICIDE, NEGLIGENT, VEHICLE,</td>\n",
       "      <td>PL 1251201</td>\n",
       "      <td>FELONY</td>\n",
       "      <td>MANHATTAN</td>\n",
       "      <td>23</td>\n",
       "      <td>18-24</td>\n",
       "      <td>M</td>\n",
       "      <td>BLACK</td>\n",
       "      <td>12</td>\n",
       "    </tr>\n",
       "    <tr>\n",
       "      <th>3</th>\n",
       "      <td>206890441</td>\n",
       "      <td>12/31/2019</td>\n",
       "      <td>268</td>\n",
       "      <td>CRIMINAL MIS 2 &amp; 3</td>\n",
       "      <td>PL 1450502</td>\n",
       "      <td>FELONY</td>\n",
       "      <td>STATEN ISLAND</td>\n",
       "      <td>120</td>\n",
       "      <td>18-24</td>\n",
       "      <td>M</td>\n",
       "      <td>BLACK</td>\n",
       "      <td>12</td>\n",
       "    </tr>\n",
       "    <tr>\n",
       "      <th>4</th>\n",
       "      <td>206890973</td>\n",
       "      <td>12/31/2019</td>\n",
       "      <td>101</td>\n",
       "      <td>ASSAULT 3</td>\n",
       "      <td>PL 1200001</td>\n",
       "      <td>MISDEMEANOR</td>\n",
       "      <td>MANHATTAN</td>\n",
       "      <td>25</td>\n",
       "      <td>25-44</td>\n",
       "      <td>M</td>\n",
       "      <td>BLACK</td>\n",
       "      <td>12</td>\n",
       "    </tr>\n",
       "  </tbody>\n",
       "</table>\n",
       "</div>"
      ],
      "text/plain": [
       "   ARREST_KEY ARREST_DATE  PD_CD                        PD_DESC    LAW_CODE  \\\n",
       "0   206892169  12/31/2019    907          IMPAIRED DRIVING,DRUG  VTL11920U4   \n",
       "1   206888084  12/31/2019    739      FRAUD,UNCLASSIFIED-FELONY  PL 1908301   \n",
       "2   206890433  12/31/2019    122  HOMICIDE, NEGLIGENT, VEHICLE,  PL 1251201   \n",
       "3   206890441  12/31/2019    268             CRIMINAL MIS 2 & 3  PL 1450502   \n",
       "4   206890973  12/31/2019    101                      ASSAULT 3  PL 1200001   \n",
       "\n",
       "    LAW_CAT_CD    ARREST_BORO  ARREST_PRECINCT AGE_GROUP PERP_SEX  \\\n",
       "0  MISDEMEANOR      MANHATTAN               33     25-44        M   \n",
       "1       FELONY         QUEENS              101     25-44        M   \n",
       "2       FELONY      MANHATTAN               23     18-24        M   \n",
       "3       FELONY  STATEN ISLAND              120     18-24        M   \n",
       "4  MISDEMEANOR      MANHATTAN               25     25-44        M   \n",
       "\n",
       "        PERP_RACE MONTH  \n",
       "0           WHITE    12  \n",
       "1  BLACK HISPANIC    12  \n",
       "2           BLACK    12  \n",
       "3           BLACK    12  \n",
       "4           BLACK    12  "
      ]
     },
     "execution_count": 30,
     "metadata": {},
     "output_type": "execute_result"
    }
   ],
   "source": [
    "december = nypd[nypd['MONTH'] == '12']\n",
    "december.head()"
   ]
  },
  {
   "cell_type": "markdown",
   "metadata": {},
   "source": [
    "Similarly, we can create a dataframe and then plot."
   ]
  },
  {
   "cell_type": "code",
   "execution_count": 31,
   "metadata": {},
   "outputs": [
    {
     "data": {
      "text/html": [
       "<div>\n",
       "<style scoped>\n",
       "    .dataframe tbody tr th:only-of-type {\n",
       "        vertical-align: middle;\n",
       "    }\n",
       "\n",
       "    .dataframe tbody tr th {\n",
       "        vertical-align: top;\n",
       "    }\n",
       "\n",
       "    .dataframe thead th {\n",
       "        text-align: right;\n",
       "    }\n",
       "</style>\n",
       "<table border=\"1\" class=\"dataframe\">\n",
       "  <thead>\n",
       "    <tr style=\"text-align: right;\">\n",
       "      <th></th>\n",
       "      <th>Count</th>\n",
       "    </tr>\n",
       "    <tr>\n",
       "      <th>ARREST_DATE</th>\n",
       "      <th></th>\n",
       "    </tr>\n",
       "  </thead>\n",
       "  <tbody>\n",
       "    <tr>\n",
       "      <th>12/01/2019</th>\n",
       "      <td>334</td>\n",
       "    </tr>\n",
       "    <tr>\n",
       "      <th>12/02/2019</th>\n",
       "      <td>347</td>\n",
       "    </tr>\n",
       "    <tr>\n",
       "      <th>12/03/2019</th>\n",
       "      <td>606</td>\n",
       "    </tr>\n",
       "    <tr>\n",
       "      <th>12/04/2019</th>\n",
       "      <td>697</td>\n",
       "    </tr>\n",
       "    <tr>\n",
       "      <th>12/05/2019</th>\n",
       "      <td>689</td>\n",
       "    </tr>\n",
       "    <tr>\n",
       "      <th>12/06/2019</th>\n",
       "      <td>575</td>\n",
       "    </tr>\n",
       "    <tr>\n",
       "      <th>12/07/2019</th>\n",
       "      <td>403</td>\n",
       "    </tr>\n",
       "    <tr>\n",
       "      <th>12/08/2019</th>\n",
       "      <td>384</td>\n",
       "    </tr>\n",
       "    <tr>\n",
       "      <th>12/09/2019</th>\n",
       "      <td>370</td>\n",
       "    </tr>\n",
       "    <tr>\n",
       "      <th>12/10/2019</th>\n",
       "      <td>616</td>\n",
       "    </tr>\n",
       "    <tr>\n",
       "      <th>12/11/2019</th>\n",
       "      <td>597</td>\n",
       "    </tr>\n",
       "    <tr>\n",
       "      <th>12/12/2019</th>\n",
       "      <td>588</td>\n",
       "    </tr>\n",
       "    <tr>\n",
       "      <th>12/13/2019</th>\n",
       "      <td>487</td>\n",
       "    </tr>\n",
       "    <tr>\n",
       "      <th>12/14/2019</th>\n",
       "      <td>411</td>\n",
       "    </tr>\n",
       "    <tr>\n",
       "      <th>12/15/2019</th>\n",
       "      <td>390</td>\n",
       "    </tr>\n",
       "    <tr>\n",
       "      <th>12/16/2019</th>\n",
       "      <td>451</td>\n",
       "    </tr>\n",
       "    <tr>\n",
       "      <th>12/17/2019</th>\n",
       "      <td>481</td>\n",
       "    </tr>\n",
       "    <tr>\n",
       "      <th>12/18/2019</th>\n",
       "      <td>519</td>\n",
       "    </tr>\n",
       "    <tr>\n",
       "      <th>12/19/2019</th>\n",
       "      <td>472</td>\n",
       "    </tr>\n",
       "    <tr>\n",
       "      <th>12/20/2019</th>\n",
       "      <td>423</td>\n",
       "    </tr>\n",
       "    <tr>\n",
       "      <th>12/21/2019</th>\n",
       "      <td>399</td>\n",
       "    </tr>\n",
       "    <tr>\n",
       "      <th>12/22/2019</th>\n",
       "      <td>333</td>\n",
       "    </tr>\n",
       "    <tr>\n",
       "      <th>12/23/2019</th>\n",
       "      <td>411</td>\n",
       "    </tr>\n",
       "    <tr>\n",
       "      <th>12/24/2019</th>\n",
       "      <td>234</td>\n",
       "    </tr>\n",
       "    <tr>\n",
       "      <th>12/25/2019</th>\n",
       "      <td>178</td>\n",
       "    </tr>\n",
       "    <tr>\n",
       "      <th>12/26/2019</th>\n",
       "      <td>437</td>\n",
       "    </tr>\n",
       "    <tr>\n",
       "      <th>12/27/2019</th>\n",
       "      <td>443</td>\n",
       "    </tr>\n",
       "    <tr>\n",
       "      <th>12/28/2019</th>\n",
       "      <td>343</td>\n",
       "    </tr>\n",
       "    <tr>\n",
       "      <th>12/29/2019</th>\n",
       "      <td>292</td>\n",
       "    </tr>\n",
       "    <tr>\n",
       "      <th>12/30/2019</th>\n",
       "      <td>326</td>\n",
       "    </tr>\n",
       "    <tr>\n",
       "      <th>12/31/2019</th>\n",
       "      <td>259</td>\n",
       "    </tr>\n",
       "  </tbody>\n",
       "</table>\n",
       "</div>"
      ],
      "text/plain": [
       "             Count\n",
       "ARREST_DATE       \n",
       "12/01/2019     334\n",
       "12/02/2019     347\n",
       "12/03/2019     606\n",
       "12/04/2019     697\n",
       "12/05/2019     689\n",
       "12/06/2019     575\n",
       "12/07/2019     403\n",
       "12/08/2019     384\n",
       "12/09/2019     370\n",
       "12/10/2019     616\n",
       "12/11/2019     597\n",
       "12/12/2019     588\n",
       "12/13/2019     487\n",
       "12/14/2019     411\n",
       "12/15/2019     390\n",
       "12/16/2019     451\n",
       "12/17/2019     481\n",
       "12/18/2019     519\n",
       "12/19/2019     472\n",
       "12/20/2019     423\n",
       "12/21/2019     399\n",
       "12/22/2019     333\n",
       "12/23/2019     411\n",
       "12/24/2019     234\n",
       "12/25/2019     178\n",
       "12/26/2019     437\n",
       "12/27/2019     443\n",
       "12/28/2019     343\n",
       "12/29/2019     292\n",
       "12/30/2019     326\n",
       "12/31/2019     259"
      ]
     },
     "execution_count": 31,
     "metadata": {},
     "output_type": "execute_result"
    }
   ],
   "source": [
    "december_count = december.groupby(['ARREST_DATE']).agg({'PD_CD':'count'})\n",
    "december_count.columns = ['Count']\n",
    "december_count"
   ]
  },
  {
   "cell_type": "code",
   "execution_count": 35,
   "metadata": {},
   "outputs": [
    {
     "data": {
      "text/plain": [
       "(0, 750)"
      ]
     },
     "execution_count": 35,
     "metadata": {},
     "output_type": "execute_result"
    },
    {
     "data": {
      "image/png": "[encoded data removed]",
      "text/plain": [
       "<Figure size 1080x504 with 1 Axes>"
      ]
     },
     "metadata": {
      "needs_background": "light"
     },
     "output_type": "display_data"
    }
   ],
   "source": [
    "plt.figure(figsize = (15, 7))\n",
    "ax3 = sns.lineplot(x = december_count.index.str[3:5], y = 'Count', data = december_count)\n",
    "ax3.set_xlabel(\"Date\")\n",
    "ax3.set_ylabel(\"Number of arrests\")\n",
    "ax3.set_title(\"Count of Arrests by Day in December 2019\")\n",
    "plt.ylim(0, 750)"
   ]
  },
  {
   "cell_type": "markdown",
   "metadata": {},
   "source": [
    "Confirming my earlier hypothesis of lower arrest numbers during the holiday season, the average number of arrests on any given day in December 2019 is 435. But on December 25th 2019 (Christmas Day), there were only 178 arrests, which is also the lowest number of arrests for the month of December."
   ]
  },
  {
   "cell_type": "code",
   "execution_count": 32,
   "metadata": {},
   "outputs": [
    {
     "data": {
      "text/plain": [
       "(Count    435.322581\n",
       " dtype: float64, Count    178\n",
       " dtype: int64)"
      ]
     },
     "execution_count": 32,
     "metadata": {},
     "output_type": "execute_result"
    }
   ],
   "source": [
    "december_count.mean(), december_count.min()"
   ]
  },
  {
   "cell_type": "markdown",
   "metadata": {},
   "source": [
    "Knowing that Christmas Day had the lowest number of arrests in December, I wanted to know if this minimum is also the minimum for the entire year. To check for that, we can groupby the dataframe by each day again and find the min."
   ]
  },
  {
   "cell_type": "code",
   "execution_count": 42,
   "metadata": {},
   "outputs": [
    {
     "data": {
      "text/plain": [
       "Count    178\n",
       "dtype: int64"
      ]
     },
     "execution_count": 42,
     "metadata": {},
     "output_type": "execute_result"
    }
   ],
   "source": [
    "nypd_annual_min = nypd.groupby(['ARREST_DATE']).agg({'PD_CD':'count'})\n",
    "nypd_annual_min.columns = ['Count']\n",
    "nypd_annual_min.min()"
   ]
  },
  {
   "cell_type": "markdown",
   "metadata": {},
   "source": [
    "As it turns out, the minimum number of arrest for the entire year of 2019 is also 178. To be sure that this min is also the same as Christmas Day, we can find the index, which confirms that this min is indeed December 25th."
   ]
  },
  {
   "cell_type": "code",
   "execution_count": 34,
   "metadata": {},
   "outputs": [
    {
     "name": "stdout",
     "output_type": "stream",
     "text": [
      "['12/25/2019']\n"
     ]
    }
   ],
   "source": [
    "index_label = nypd_annual_min.query('Count == 178').index.tolist()\n",
    "print(index_label)"
   ]
  },
  {
   "cell_type": "markdown",
   "metadata": {},
   "source": [
    "We can also create a distribution plot of total number of arrests by day."
   ]
  },
  {
   "cell_type": "code",
   "execution_count": 36,
   "metadata": {},
   "outputs": [
    {
     "data": {
      "text/html": [
       "<div>\n",
       "<style scoped>\n",
       "    .dataframe tbody tr th:only-of-type {\n",
       "        vertical-align: middle;\n",
       "    }\n",
       "\n",
       "    .dataframe tbody tr th {\n",
       "        vertical-align: top;\n",
       "    }\n",
       "\n",
       "    .dataframe thead th {\n",
       "        text-align: right;\n",
       "    }\n",
       "</style>\n",
       "<table border=\"1\" class=\"dataframe\">\n",
       "  <thead>\n",
       "    <tr style=\"text-align: right;\">\n",
       "      <th></th>\n",
       "      <th>Count</th>\n",
       "    </tr>\n",
       "    <tr>\n",
       "      <th>ARREST_DATE</th>\n",
       "      <th></th>\n",
       "    </tr>\n",
       "  </thead>\n",
       "  <tbody>\n",
       "    <tr>\n",
       "      <th>01/01/2019</th>\n",
       "      <td>547</td>\n",
       "    </tr>\n",
       "    <tr>\n",
       "      <th>01/02/2019</th>\n",
       "      <td>727</td>\n",
       "    </tr>\n",
       "    <tr>\n",
       "      <th>01/03/2019</th>\n",
       "      <td>802</td>\n",
       "    </tr>\n",
       "    <tr>\n",
       "      <th>01/04/2019</th>\n",
       "      <td>776</td>\n",
       "    </tr>\n",
       "    <tr>\n",
       "      <th>01/05/2019</th>\n",
       "      <td>522</td>\n",
       "    </tr>\n",
       "  </tbody>\n",
       "</table>\n",
       "</div>"
      ],
      "text/plain": [
       "             Count\n",
       "ARREST_DATE       \n",
       "01/01/2019     547\n",
       "01/02/2019     727\n",
       "01/03/2019     802\n",
       "01/04/2019     776\n",
       "01/05/2019     522"
      ]
     },
     "execution_count": 36,
     "metadata": {},
     "output_type": "execute_result"
    }
   ],
   "source": [
    "daily_count = nypd.groupby(['ARREST_DATE']).agg({'PD_CD':'count'})\n",
    "daily_count.columns = ['Count']\n",
    "daily_count.head()"
   ]
  },
  {
   "cell_type": "markdown",
   "metadata": {},
   "source": [
    "Interestingly, the distribution plot does not show a normal distribution of a bell curve. Instead, there are two peaks in this distribution. This feature might be worth looking into for further exploration; to find out if this is just a feature of the data or if there is actually a coding error."
   ]
  },
  {
   "cell_type": "code",
   "execution_count": 37,
   "metadata": {},
   "outputs": [
    {
     "data": {
      "text/plain": [
       "Text(0.5, 1.0, 'Distribution of Arrests in New York')"
      ]
     },
     "execution_count": 37,
     "metadata": {},
     "output_type": "execute_result"
    },
    {
     "data": {
      "image/png": "[encoded data removed]",
      "text/plain": [
       "<Figure size 432x288 with 1 Axes>"
      ]
     },
     "metadata": {
      "needs_background": "light"
     },
     "output_type": "display_data"
    }
   ],
   "source": [
    "ax2 = sns.distplot(daily_count, color = \"green\", label = \"Arrests\")\n",
    "plt.legend()\n",
    "ax2.set_xlabel(\"Arrest Count\")\n",
    "ax2.set_ylabel(\"Density\")\n",
    "ax2.set_title(\"Distribution of Arrests in New York\")"
   ]
  },
  {
   "cell_type": "markdown",
   "metadata": {},
   "source": [
    "We can compare the distribution above with the mean of the data (the average number of arrests on any given day in 2019)."
   ]
  },
  {
   "cell_type": "code",
   "execution_count": 38,
   "metadata": {},
   "outputs": [
    {
     "data": {
      "text/html": [
       "<div>\n",
       "<style scoped>\n",
       "    .dataframe tbody tr th:only-of-type {\n",
       "        vertical-align: middle;\n",
       "    }\n",
       "\n",
       "    .dataframe tbody tr th {\n",
       "        vertical-align: top;\n",
       "    }\n",
       "\n",
       "    .dataframe thead th {\n",
       "        text-align: right;\n",
       "    }\n",
       "</style>\n",
       "<table border=\"1\" class=\"dataframe\">\n",
       "  <thead>\n",
       "    <tr style=\"text-align: right;\">\n",
       "      <th></th>\n",
       "      <th>Count</th>\n",
       "    </tr>\n",
       "  </thead>\n",
       "  <tbody>\n",
       "    <tr>\n",
       "      <th>count</th>\n",
       "      <td>365.000000</td>\n",
       "    </tr>\n",
       "    <tr>\n",
       "      <th>mean</th>\n",
       "      <td>583.805479</td>\n",
       "    </tr>\n",
       "    <tr>\n",
       "      <th>std</th>\n",
       "      <td>132.562272</td>\n",
       "    </tr>\n",
       "    <tr>\n",
       "      <th>min</th>\n",
       "      <td>178.000000</td>\n",
       "    </tr>\n",
       "    <tr>\n",
       "      <th>25%</th>\n",
       "      <td>479.000000</td>\n",
       "    </tr>\n",
       "    <tr>\n",
       "      <th>50%</th>\n",
       "      <td>579.000000</td>\n",
       "    </tr>\n",
       "    <tr>\n",
       "      <th>75%</th>\n",
       "      <td>697.000000</td>\n",
       "    </tr>\n",
       "    <tr>\n",
       "      <th>max</th>\n",
       "      <td>877.000000</td>\n",
       "    </tr>\n",
       "  </tbody>\n",
       "</table>\n",
       "</div>"
      ],
      "text/plain": [
       "            Count\n",
       "count  365.000000\n",
       "mean   583.805479\n",
       "std    132.562272\n",
       "min    178.000000\n",
       "25%    479.000000\n",
       "50%    579.000000\n",
       "75%    697.000000\n",
       "max    877.000000"
      ]
     },
     "execution_count": 38,
     "metadata": {},
     "output_type": "execute_result"
    }
   ],
   "source": [
    "daily_count.describe()"
   ]
  },
  {
   "cell_type": "markdown",
   "metadata": {},
   "source": [
    "## Is there racial bias in NYPD arrests?"
   ]
  },
  {
   "cell_type": "markdown",
   "metadata": {},
   "source": [
    "Last year, I took an Intro to Political Psychology class, where we learned about a racial bias and police shootings. We read about a psychology experiment on racial bias and police shootings (Correll et al 2007), where the subjects (police officers) were asked to participate in the shooter's dilemma game. \n",
    "\n",
    "In the shooter's dilemma, participants are exposed to a series of armed and unarmed individuals who appear in the context of a variety of background images. Participants are instructed that any armed target are an imminent threat and should be shot as quickly as possible, while unarmed individuals pose no threat and should be flagged by pressing a different key. Individuals presented are a mix of white and black men.\n",
    "\n",
    "The aim of the study was to find if there was an overall bias toward shooting or not shooting, and does it vary by race? The experiment's result indicated that participants, when shooting, shot black individuals more quickly than white individuls, and when participants decided not to shoot, they responded more quickly for white individuals than for black individuals.\n",
    "\n",
    "I want to explore the idea if we can infer racial bias with NYPD's arrests in 2019. "
   ]
  },
  {
   "cell_type": "code",
   "execution_count": 39,
   "metadata": {},
   "outputs": [
    {
     "data": {
      "text/html": [
       "<div>\n",
       "<style scoped>\n",
       "    .dataframe tbody tr th:only-of-type {\n",
       "        vertical-align: middle;\n",
       "    }\n",
       "\n",
       "    .dataframe tbody tr th {\n",
       "        vertical-align: top;\n",
       "    }\n",
       "\n",
       "    .dataframe thead th {\n",
       "        text-align: right;\n",
       "    }\n",
       "</style>\n",
       "<table border=\"1\" class=\"dataframe\">\n",
       "  <thead>\n",
       "    <tr style=\"text-align: right;\">\n",
       "      <th></th>\n",
       "      <th>Count</th>\n",
       "    </tr>\n",
       "  </thead>\n",
       "  <tbody>\n",
       "    <tr>\n",
       "      <th>BLACK</th>\n",
       "      <td>101979</td>\n",
       "    </tr>\n",
       "    <tr>\n",
       "      <th>WHITE HISPANIC</th>\n",
       "      <td>53265</td>\n",
       "    </tr>\n",
       "    <tr>\n",
       "      <th>WHITE</th>\n",
       "      <td>25284</td>\n",
       "    </tr>\n",
       "    <tr>\n",
       "      <th>BLACK HISPANIC</th>\n",
       "      <td>18550</td>\n",
       "    </tr>\n",
       "    <tr>\n",
       "      <th>ASIAN / PACIFIC ISLANDER</th>\n",
       "      <td>12013</td>\n",
       "    </tr>\n",
       "    <tr>\n",
       "      <th>UNKNOWN</th>\n",
       "      <td>1401</td>\n",
       "    </tr>\n",
       "    <tr>\n",
       "      <th>AMERICAN INDIAN/ALASKAN NATIVE</th>\n",
       "      <td>597</td>\n",
       "    </tr>\n",
       "  </tbody>\n",
       "</table>\n",
       "</div>"
      ],
      "text/plain": [
       "                                 Count\n",
       "BLACK                           101979\n",
       "WHITE HISPANIC                   53265\n",
       "WHITE                            25284\n",
       "BLACK HISPANIC                   18550\n",
       "ASIAN / PACIFIC ISLANDER         12013\n",
       "UNKNOWN                           1401\n",
       "AMERICAN INDIAN/ALASKAN NATIVE     597"
      ]
     },
     "execution_count": 39,
     "metadata": {},
     "output_type": "execute_result"
    }
   ],
   "source": [
    "nypd_race = nypd['PERP_RACE'].value_counts().to_frame()\n",
    "nypd_race.columns = ['Count']\n",
    "nypd_race"
   ]
  },
  {
   "cell_type": "markdown",
   "metadata": {},
   "source": [
    "Out of the 213,089 arrests in 2019, almost half of them were arrests on black individuals (~47.8% of all arrests were on black individuals to be exact). We can visualize this information using a bar chart."
   ]
  },
  {
   "cell_type": "code",
   "execution_count": 40,
   "metadata": {},
   "outputs": [
    {
     "data": {
      "text/plain": [
       "[Text(0, 0, 'BLACK'),\n",
       " Text(0, 0, 'WHITE HISPANIC'),\n",
       " Text(0, 0, 'WHITE'),\n",
       " Text(0, 0, 'BLACK HISPANIC'),\n",
       " Text(0, 0, 'ASIAN / PACIFIC ISLANDER'),\n",
       " Text(0, 0, 'UNKNOWN'),\n",
       " Text(0, 0, 'AMERICAN INDIAN / ALASKAN NATIVE')]"
      ]
     },
     "execution_count": 40,
     "metadata": {},
     "output_type": "execute_result"
    },
    {
     "data": {
      "image/png": "[encoded data removed]",
      "text/plain": [
       "<Figure size 720x504 with 1 Axes>"
      ]
     },
     "metadata": {
      "needs_background": "light"
     },
     "output_type": "display_data"
    }
   ],
   "source": [
    "ax4 = nypd_race.plot(kind = 'bar', figsize = (10,7))\n",
    "ax4.set_title(\"Arrests in New York by Race\", fontsize=18)\n",
    "ax4.set_ylabel(\"Number of arrests\", fontsize=12);\n",
    "ax4.set_xticklabels(['BLACK', 'WHITE HISPANIC', 'WHITE', 'BLACK HISPANIC', 'ASIAN / PACIFIC ISLANDER', \n",
    "                    'UNKNOWN', 'AMERICAN INDIAN / ALASKAN NATIVE'], rotation=45, fontsize=12)"
   ]
  },
  {
   "cell_type": "markdown",
   "metadata": {},
   "source": [
    "Because this dataset is not a psychology experiment, we cannot exactly conclude that there is racial bias in NYPD arrests. We would need more information in order to determine this causality! We can, however, confirm that the trend of NYPD arrests follows the findings from the racial bias and police shootings experiment in 2007; that there is racial bias towards black individuals. In the psychology experiment, police offers when shooting, would shoot faster on black individuals than white individuals. In this dataset, almost half of all arrests made by NYPD were arrests on black individuals."
   ]
  },
  {
   "cell_type": "code",
   "execution_count": null,
   "metadata": {},
   "outputs": [],
   "source": []
  }
 ],
 "metadata": {
  "kernelspec": {
   "display_name": "Python [conda env:dsua-111]",
   "language": "python",
   "name": "conda-env-dsua-111-py"
  },
  "language_info": {
   "codemirror_mode": {
    "name": "ipython",
    "version": 3
   },
   "file_extension": ".py",
   "mimetype": "text/x-python",
   "name": "python",
   "nbconvert_exporter": "python",
   "pygments_lexer": "ipython3",
   "version": "3.7.6"
  }
 },
 "nbformat": 4,
 "nbformat_minor": 4
}
